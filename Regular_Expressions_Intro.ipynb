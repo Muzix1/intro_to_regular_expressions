{
 "cells": [
  {
   "cell_type": "markdown",
   "metadata": {},
   "source": [
    "# Regular Expressions, an Introduction"
   ]
  },
  {
   "cell_type": "markdown",
   "metadata": {},
   "source": [
    "## What is a regular expression?\n",
    "Sequence of characters that define a search pattern.    \n",
    "Also refered to as regex or regexp"
   ]
  },
  {
   "cell_type": "code",
   "execution_count": null,
   "metadata": {},
   "outputs": [],
   "source": [
    "# Python has built in regex module\n",
    "import re"
   ]
  },
  {
   "cell_type": "markdown",
   "metadata": {},
   "source": [
    "### Control Characters\n",
    "^ $ . ? \\+ | * ( ) [ ] { } "
   ]
  },
  {
   "cell_type": "markdown",
   "metadata": {},
   "source": [
    "^ Beginning of line.    \n",
    "$ End of line.  \n",
    ". Any single Character.  \n",
    "\\* Zero or more occurence before expression.  \n",
    "? Zero or one occurence before expression.  \n",
    "\\+ One or more occurence before expression.  \n",
    "a**|**b Matches a or b.  \n",
    "() Groups regular expression.  \n",
    "[...] Any single character inside brackets.  \n",
    "[^...] Any sing character NOT inside brackets.  \n",
    "[.-.] Range of characters inside brackets.    \n",
    "re{n} Exactly n number of occurences of preceding regex or re{n,m}==min,max.  \n",
    "Escape control character to search for it. \\\\. \n"
   ]
  },
  {
   "cell_type": "markdown",
   "metadata": {},
   "source": [
    "### The all mighty back slash \\. Python's escape character\n",
    "**\\w** Word characters. [a-zA-Z0-9_]  \n",
    "**\\d** Digits. [0-9]  \n",
    "**\\s** Whitespace. [ \\t\\n\\r\\f\\v]  \n",
    "**\\b** Word Boundary  \n",
    "Capitalize alphabet to search for opposite.  \n",
    "\\W Nonword  \n",
    "\\D Nondigits  \n",
    "\\S Nonwhitespace  \n",
    "\\B Word Boundary"
   ]
  },
  {
   "cell_type": "markdown",
   "metadata": {},
   "source": [
    "## Regex methods\n",
    "findall()   \n",
    "search()  \n",
    "sub()  \n",
    "split()  "
   ]
  },
  {
   "cell_type": "code",
   "execution_count": null,
   "metadata": {},
   "outputs": [],
   "source": [
    "my_string = \"\"\"Cell number is 0721231234, first alternative 082 123 1234. Second alternative 0651 223 236.\n",
    "                Cell with international dialing code is +27726546544. \n",
    "                Work landline is 011 123 1234. Email me on sample.name123@email.com, name@email.co.za. \n",
    "                ID number is 930254 5566 084. Product ID is 1234657897.\"\"\""
   ]
  },
  {
   "cell_type": "markdown",
   "metadata": {},
   "source": [
    "### findall()"
   ]
  },
  {
   "cell_type": "code",
   "execution_count": null,
   "metadata": {},
   "outputs": [],
   "source": [
    "# findall(): Returns a list of matches \n",
    "cells = re.findall(r'\\d{10}', my_string) # pattern as raw string\n",
    "cells"
   ]
  },
  {
   "cell_type": "code",
   "execution_count": null,
   "metadata": {},
   "outputs": [],
   "source": [
    "cells = re.findall(r'0\\d{9}', my_string) # pattern as raw string\n",
    "cells"
   ]
  },
  {
   "cell_type": "code",
   "execution_count": null,
   "metadata": {},
   "outputs": [],
   "source": [
    "cells = re.findall(r'0\\d{2}.?\\d{3}.?\\d{4}', my_string)\n",
    "cells"
   ]
  },
  {
   "cell_type": "code",
   "execution_count": null,
   "metadata": {},
   "outputs": [],
   "source": [
    "cells = re.findall(r'0[678]\\d.?\\d{3}.?\\d{4}', my_string) \n",
    "cells"
   ]
  },
  {
   "cell_type": "code",
   "execution_count": null,
   "metadata": {},
   "outputs": [],
   "source": [
    "cells = re.findall(r'0[6-8]\\d+.?\\d{3,4}.?\\d{3,4}', my_string) # [6-8]\n",
    "cells"
   ]
  },
  {
   "cell_type": "code",
   "execution_count": null,
   "metadata": {},
   "outputs": [],
   "source": [
    "cells = re.findall(r'[27|0][678]\\d+.?\\d{3,4}.?\\d{3,4}', my_string)\n",
    "cells"
   ]
  },
  {
   "cell_type": "code",
   "execution_count": null,
   "metadata": {},
   "outputs": [],
   "source": [
    "emails = re.findall('\\S+@\\w+\\.\\w+\\.?\\w+', my_string) \n",
    "emails"
   ]
  },
  {
   "cell_type": "markdown",
   "metadata": {},
   "source": [
    "### search()"
   ]
  },
  {
   "cell_type": "code",
   "execution_count": null,
   "metadata": {},
   "outputs": [],
   "source": [
    "# returns location of first match \n",
    "cell = re.search(r'[27|0][678]\\d+.?\\d{3,4}.?\\d{3,4}', my_string)\n",
    "cell"
   ]
  },
  {
   "cell_type": "code",
   "execution_count": null,
   "metadata": {},
   "outputs": [],
   "source": [
    "cell.group() # group() returns the actual match"
   ]
  },
  {
   "cell_type": "markdown",
   "metadata": {},
   "source": [
    "### sub()"
   ]
  },
  {
   "cell_type": "code",
   "execution_count": null,
   "metadata": {},
   "outputs": [],
   "source": [
    "# sub(): Substitutes match with given pattern/string\n",
    "pattern = r'[27|0][678]\\d+.?\\d{3,4}.?\\d{3,4}'\n",
    "replace = 'NumberDeleted'\n",
    "new_string = re.sub(pattern, replace, my_string) \n",
    "new_string"
   ]
  },
  {
   "cell_type": "markdown",
   "metadata": {},
   "source": [
    "### split()"
   ]
  },
  {
   "cell_type": "code",
   "execution_count": null,
   "metadata": {},
   "outputs": [],
   "source": [
    "# splits the string where match and returns a list.\n",
    "pattern = r\"\\.\\s\"\n",
    "result = re.split(pattern, my_string) \n",
    "result"
   ]
  },
  {
   "cell_type": "code",
   "execution_count": null,
   "metadata": {},
   "outputs": [],
   "source": [
    "pattern = r\"\\.\\s+\"\n",
    "result = re.split(pattern, my_string) \n",
    "result"
   ]
  },
  {
   "cell_type": "markdown",
   "metadata": {},
   "source": [
    "# Remember, build up to your final regex pattern!!!"
   ]
  },
  {
   "cell_type": "markdown",
   "metadata": {},
   "source": [
    "## References\n",
    "https://www.tutorialspoint.com/python/python_reg_expressions.htm  \n",
    "https://docs.python.org/3/library/re.html  \n",
    "https://pythex.org/  \n"
   ]
  }
 ],
 "metadata": {
  "kernelspec": {
   "display_name": "Python 3",
   "language": "python",
   "name": "python3"
  },
  "language_info": {
   "codemirror_mode": {
    "name": "ipython",
    "version": 3
   },
   "file_extension": ".py",
   "mimetype": "text/x-python",
   "name": "python",
   "nbconvert_exporter": "python",
   "pygments_lexer": "ipython3",
   "version": "3.7.1"
  }
 },
 "nbformat": 4,
 "nbformat_minor": 2
}
